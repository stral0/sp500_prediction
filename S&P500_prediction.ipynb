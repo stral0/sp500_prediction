{
  "nbformat": 4,
  "nbformat_minor": 0,
  "metadata": {
    "colab": {
      "name": "S&P500 pomagalo.ipynb",
      "provenance": [],
      "collapsed_sections": []
    },
    "kernelspec": {
      "name": "python3",
      "display_name": "Python 3"
    },
    "language_info": {
      "name": "python"
    }
  },
  "cells": [
    {
      "cell_type": "code",
      "metadata": {
        "colab": {
          "base_uri": "https://localhost:8080/"
        },
        "id": "4dYo2Hxp1xFx",
        "outputId": "13b159e0-12af-4dc1-8ffa-f787eea2608f"
      },
      "source": [
        "! pip install yfinance"
      ],
      "execution_count": null,
      "outputs": [
        {
          "output_type": "stream",
          "text": [
            "Collecting yfinance\n",
            "  Downloading https://files.pythonhosted.org/packages/a7/ee/315752b9ef281ba83c62aa7ec2e2074f85223da6e7e74efb4d3e11c0f510/yfinance-0.1.59.tar.gz\n",
            "Requirement already satisfied: pandas>=0.24 in /usr/local/lib/python3.7/dist-packages (from yfinance) (1.1.5)\n",
            "Requirement already satisfied: numpy>=1.15 in /usr/local/lib/python3.7/dist-packages (from yfinance) (1.19.5)\n",
            "Requirement already satisfied: requests>=2.20 in /usr/local/lib/python3.7/dist-packages (from yfinance) (2.23.0)\n",
            "Requirement already satisfied: multitasking>=0.0.7 in /usr/local/lib/python3.7/dist-packages (from yfinance) (0.0.9)\n",
            "Collecting lxml>=4.5.1\n",
            "\u001b[?25l  Downloading https://files.pythonhosted.org/packages/30/c0/d0526314971fc661b083ab135747dc68446a3022686da8c16d25fcf6ef07/lxml-4.6.3-cp37-cp37m-manylinux2014_x86_64.whl (6.3MB)\n",
            "\u001b[K     |████████████████████████████████| 6.3MB 13.8MB/s \n",
            "\u001b[?25hRequirement already satisfied: python-dateutil>=2.7.3 in /usr/local/lib/python3.7/dist-packages (from pandas>=0.24->yfinance) (2.8.1)\n",
            "Requirement already satisfied: pytz>=2017.2 in /usr/local/lib/python3.7/dist-packages (from pandas>=0.24->yfinance) (2018.9)\n",
            "Requirement already satisfied: certifi>=2017.4.17 in /usr/local/lib/python3.7/dist-packages (from requests>=2.20->yfinance) (2020.12.5)\n",
            "Requirement already satisfied: chardet<4,>=3.0.2 in /usr/local/lib/python3.7/dist-packages (from requests>=2.20->yfinance) (3.0.4)\n",
            "Requirement already satisfied: urllib3!=1.25.0,!=1.25.1,<1.26,>=1.21.1 in /usr/local/lib/python3.7/dist-packages (from requests>=2.20->yfinance) (1.24.3)\n",
            "Requirement already satisfied: idna<3,>=2.5 in /usr/local/lib/python3.7/dist-packages (from requests>=2.20->yfinance) (2.10)\n",
            "Requirement already satisfied: six>=1.5 in /usr/local/lib/python3.7/dist-packages (from python-dateutil>=2.7.3->pandas>=0.24->yfinance) (1.15.0)\n",
            "Building wheels for collected packages: yfinance\n",
            "  Building wheel for yfinance (setup.py) ... \u001b[?25l\u001b[?25hdone\n",
            "  Created wheel for yfinance: filename=yfinance-0.1.59-py2.py3-none-any.whl size=23442 sha256=7f428ec56b3b8b4b8e71a4b343c64125fb038cd7b6fb3a140bb437d7cb14a938\n",
            "  Stored in directory: /root/.cache/pip/wheels/f8/2a/0f/4b5a86e1d52e451757eb6bc17fd899629f0925c777741b6d04\n",
            "Successfully built yfinance\n",
            "Installing collected packages: lxml, yfinance\n",
            "  Found existing installation: lxml 4.2.6\n",
            "    Uninstalling lxml-4.2.6:\n",
            "      Successfully uninstalled lxml-4.2.6\n",
            "Successfully installed lxml-4.6.3 yfinance-0.1.59\n"
          ],
          "name": "stdout"
        }
      ]
    },
    {
      "cell_type": "markdown",
      "metadata": {
        "id": "F2Poi7idnKzb"
      },
      "source": [
        "# Importing necessary libraries"
      ]
    },
    {
      "cell_type": "code",
      "metadata": {
        "id": "GBifMujXPfHa"
      },
      "source": [
        "from bs4 import BeautifulSoup as BS\n",
        "import requests\n",
        "import yfinance as yf\n",
        "import datetime\n",
        "import pandas as pd\n",
        "import pandas_datareader.data as web\n",
        "\n",
        "\n",
        "import urllib.request as urllib2 \n",
        "from urllib.request import URLError\n",
        "\n",
        "from tqdm import tqdm\n",
        "\n",
        "import os \n",
        "import pickle\n",
        "import numpy as np\n",
        "\n"
      ],
      "execution_count": null,
      "outputs": []
    },
    {
      "cell_type": "markdown",
      "metadata": {
        "id": "z0020KV7m93g"
      },
      "source": [
        "# Getting the list of tickers"
      ]
    },
    {
      "cell_type": "code",
      "metadata": {
        "id": "l0CFbzhkPoku"
      },
      "source": [
        "resp = requests.get('http://en.wikipedia.org/wiki/List_of_S%26P_500_companies')\n",
        "soup = BS(resp.text, 'lxml')\n",
        "table = soup.find('table', {'class': 'wikitable sortable'})\n",
        "\n",
        "tickers = []\n",
        "for row in table.findAll('tr')[1:]:\n",
        "    ticker = row.findAll('td')[0].text\n",
        "    tickers.append(ticker)\n",
        "\n",
        "tickers = [s.replace('\\n', '') for s in tickers]\n",
        "start = datetime.datetime(2021,4,28)\n",
        "end = datetime.datetime(2021,5,28)\n"
      ],
      "execution_count": null,
      "outputs": []
    },
    {
      "cell_type": "markdown",
      "metadata": {
        "id": "SPkqwbphnB_D"
      },
      "source": [
        "# Getting market cap data for each ticker"
      ]
    },
    {
      "cell_type": "code",
      "metadata": {
        "colab": {
          "base_uri": "https://localhost:8080/"
        },
        "id": "D9LqAg18eDx5",
        "outputId": "1921dbb2-8896-466d-ff77-4a5edb327871"
      },
      "source": [
        "dates_keys = ['2021-04-28', '2021-04-29', '2021-04-30',  '2021-05-03', '2021-05-04', '2021-05-05', '2021-05-06']\n",
        "dates_keys = dates_keys + ['2021-05-07', '2021-05-10', '2021-05-11', '2021-05-12', '2021-05-13', '2021-05-14', '2021-05-17', '2021-05-18', '2021-05-19']\n",
        "dates_keys = dates_keys + ['2021-05-20', '2021-05-21', '2021-05-24', '2021-05-25', '2021-05-26', '2021-05-27', '2021-05-28']\n",
        "len(dates_keys)"
      ],
      "execution_count": null,
      "outputs": [
        {
          "output_type": "execute_result",
          "data": {
            "text/plain": [
              "23"
            ]
          },
          "metadata": {
            "tags": []
          },
          "execution_count": 147
        }
      ]
    },
    {
      "cell_type": "markdown",
      "metadata": {
        "id": "OKh3vafgrYcT"
      },
      "source": [
        "# Try to upload data "
      ]
    },
    {
      "cell_type": "code",
      "metadata": {
        "id": "s0lRVoi3qobP"
      },
      "source": [
        "if 'market_cap.pkl' in os.listdir('.'):\n",
        "  with open('market_cap.pkl', 'rb') as file:\n",
        "    market_cap_dict = pickle.load(file)"
      ],
      "execution_count": null,
      "outputs": []
    },
    {
      "cell_type": "markdown",
      "metadata": {
        "id": "YI8JwRIVrf2t"
      },
      "source": [
        "# If there is no data to upload -> download it yourself"
      ]
    },
    {
      "cell_type": "code",
      "metadata": {
        "id": "n1VWs4s2aiNn"
      },
      "source": [
        "if 'market_cap.pkl' not in os.listdir('.'):\n",
        "\n",
        "  market_cap_dict = {}\n",
        "\n",
        "  for ticker in tqdm(tickers):\n",
        "    soup = BS(urllib2.urlopen('https://ycharts.com/companies/' + ticker + '/market_cap'), features=\"html.parser\")\n",
        "    leftCol = soup.find('div', {'class':'dataColLeft'})\n",
        "    dates = leftCol.find_all('td', {'class':'col1'})\n",
        "    market_caps = leftCol.find_all('td', {'class':'col2'})\n",
        "\n",
        "    dates = list(map(lambda x: x.string, dates))\n",
        "    market_caps = list(map(lambda x: x.string.strip(), market_caps))\n",
        "\n",
        "    zipped = list(zip(dates, market_caps))\n",
        "\n",
        "    # preprocess the data\n",
        "    dates = []\n",
        "    for zipp in zipped:\n",
        "      month_day, year = zipp[0].split(', ')\n",
        "      month, day = month_day.split(' ')\n",
        "      dates.append((year + ('-05-' if month == 'May' else '-04-') + ('0' if int(day) < 10 else '') + day))\n",
        "\n",
        "    prices = []\n",
        "    for zipp in zipped:\n",
        "      value = int(zipp[1].replace('.', '').replace('T', '000000000').replace('B', '000000'))\n",
        "      prices.append(value)\n",
        "\n",
        "    marketCapKnown = dict(list(zip(dates, prices)))\n",
        "\n",
        "    marketCap = dict([(dk, 0) for dk in dates_keys])\n",
        "    marketCap.update(marketCapKnown)\n",
        "\n",
        "    market_cap_dict[ticker] = marketCap\n"
      ],
      "execution_count": null,
      "outputs": []
    },
    {
      "cell_type": "markdown",
      "metadata": {
        "id": "uYpq7JzJo4V9"
      },
      "source": [
        "# Save data to reuse it later"
      ]
    },
    {
      "cell_type": "code",
      "metadata": {
        "id": "4P9uu3hFo4BW"
      },
      "source": [
        "with open('market_cap.pkl', 'wb') as file:\n",
        "  pickle.dump(market_cap_dict, file)"
      ],
      "execution_count": null,
      "outputs": []
    },
    {
      "cell_type": "markdown",
      "metadata": {
        "id": "1ponFP3Crw6K"
      },
      "source": [
        "# Download yfinance data"
      ]
    },
    {
      "cell_type": "code",
      "metadata": {
        "id": "aL1hs7yE1oqZ",
        "colab": {
          "base_uri": "https://localhost:8080/"
        },
        "outputId": "3fcf49f9-ccb5-40bd-daa1-22053dddef8e"
      },
      "source": [
        "data = yf.download(tickers, start=start, end=end)"
      ],
      "execution_count": null,
      "outputs": [
        {
          "output_type": "stream",
          "text": [
            "[*********************100%***********************]  505 of 505 completed\n",
            "\n",
            "2 Failed downloads:\n",
            "- BF.B: No data found for this date range, symbol may be delisted\n",
            "- BRK.B: No data found, symbol may be delisted\n"
          ],
          "name": "stdout"
        }
      ]
    },
    {
      "cell_type": "code",
      "metadata": {
        "id": "KoWSEOJK5WvZ"
      },
      "source": [
        "pd.set_option(\"display.max_rows\", None, \"display.max_columns\", None)"
      ],
      "execution_count": null,
      "outputs": []
    },
    {
      "cell_type": "markdown",
      "metadata": {
        "id": "hL7KTkgqwjzo"
      },
      "source": [
        "# Get Adj Close data"
      ]
    },
    {
      "cell_type": "code",
      "metadata": {
        "id": "G35s7oM457cs"
      },
      "source": [
        "adj_close_data = data['Adj Close']"
      ],
      "execution_count": null,
      "outputs": []
    },
    {
      "cell_type": "markdown",
      "metadata": {
        "id": "1HWd_gdGwxnQ"
      },
      "source": [
        "Calculating change in percentages"
      ]
    },
    {
      "cell_type": "code",
      "metadata": {
        "id": "dUW54HtdzQ6y"
      },
      "source": [
        "ptc_changes = adj_close_data.pct_change()\n",
        "ptc_changes = ptc_changes.dropna(how='all')\n",
        "ptc_changes = ptc_changes.dropna(axis=1,how='all')\n",
        "ptc_changes"
      ],
      "execution_count": null,
      "outputs": []
    },
    {
      "cell_type": "code",
      "metadata": {
        "id": "fLdJmnYPzbi2"
      },
      "source": [
        "number_of_companies = 496\n",
        "changes_of_prices = ptc_changes.sum(axis=1)\n",
        "\n",
        "index_change_ptc = changes_of_prices/number_of_companies+1"
      ],
      "execution_count": null,
      "outputs": []
    },
    {
      "cell_type": "code",
      "metadata": {
        "id": "z8neGSXzzeVC"
      },
      "source": [
        "index_change_ptc_df=pd.DataFrame(index_change_ptc)"
      ],
      "execution_count": null,
      "outputs": []
    },
    {
      "cell_type": "markdown",
      "metadata": {
        "id": "FvhEZ8CTw3t_"
      },
      "source": [
        "# Projecting and comparing the projection to the real values"
      ]
    },
    {
      "cell_type": "code",
      "metadata": {
        "id": "XOBoEhBgznu1"
      },
      "source": [
        "sp_curr=4183.18  # s&p index value on the starting date\n",
        "sp_list=[sp_curr]\n",
        "for ind in index_change_ptc:\n",
        "  sp_curr=sp_curr*ind\n",
        "  sp_list.append(sp_curr)"
      ],
      "execution_count": null,
      "outputs": []
    },
    {
      "cell_type": "code",
      "metadata": {
        "id": "3Zc2yNJZzt9u"
      },
      "source": [
        "SP500 = web.DataReader(['sp500'], 'fred', start, end)"
      ],
      "execution_count": null,
      "outputs": []
    },
    {
      "cell_type": "code",
      "metadata": {
        "id": "4Z1bLWqTzvnS"
      },
      "source": [
        "real_SP500 = SP500.dropna(axis=0,how='all')\n",
        "real_SP500 = real_SP500[1:]"
      ],
      "execution_count": null,
      "outputs": []
    },
    {
      "cell_type": "code",
      "metadata": {
        "id": "DzjyWz6-zyIH"
      },
      "source": [
        "sp_projection_df = pd.DataFrame(sp_list, index=real_SP500.index)"
      ],
      "execution_count": null,
      "outputs": []
    },
    {
      "cell_type": "code",
      "metadata": {
        "colab": {
          "base_uri": "https://localhost:8080/",
          "height": 762
        },
        "id": "bRU7w1slz0uv",
        "outputId": "c1fe10aa-58f4-4703-cd9f-62e95a00e19a"
      },
      "source": [
        "comparison_ew=pd.concat([real_SP500,sp_projection_df],axis=1)\n",
        "comparison_ew\n"
      ],
      "execution_count": null,
      "outputs": [
        {
          "output_type": "execute_result",
          "data": {
            "text/html": [
              "<div>\n",
              "<style scoped>\n",
              "    .dataframe tbody tr th:only-of-type {\n",
              "        vertical-align: middle;\n",
              "    }\n",
              "\n",
              "    .dataframe tbody tr th {\n",
              "        vertical-align: top;\n",
              "    }\n",
              "\n",
              "    .dataframe thead th {\n",
              "        text-align: right;\n",
              "    }\n",
              "</style>\n",
              "<table border=\"1\" class=\"dataframe\">\n",
              "  <thead>\n",
              "    <tr style=\"text-align: right;\">\n",
              "      <th></th>\n",
              "      <th>sp500</th>\n",
              "      <th>0</th>\n",
              "    </tr>\n",
              "    <tr>\n",
              "      <th>DATE</th>\n",
              "      <th></th>\n",
              "      <th></th>\n",
              "    </tr>\n",
              "  </thead>\n",
              "  <tbody>\n",
              "    <tr>\n",
              "      <th>2021-04-29</th>\n",
              "      <td>4211.47</td>\n",
              "      <td>4183.180000</td>\n",
              "    </tr>\n",
              "    <tr>\n",
              "      <th>2021-04-30</th>\n",
              "      <td>4181.17</td>\n",
              "      <td>4213.192083</td>\n",
              "    </tr>\n",
              "    <tr>\n",
              "      <th>2021-05-03</th>\n",
              "      <td>4192.66</td>\n",
              "      <td>4179.263246</td>\n",
              "    </tr>\n",
              "    <tr>\n",
              "      <th>2021-05-04</th>\n",
              "      <td>4164.66</td>\n",
              "      <td>4204.885090</td>\n",
              "    </tr>\n",
              "    <tr>\n",
              "      <th>2021-05-05</th>\n",
              "      <td>4167.59</td>\n",
              "      <td>4197.809560</td>\n",
              "    </tr>\n",
              "    <tr>\n",
              "      <th>2021-05-06</th>\n",
              "      <td>4201.62</td>\n",
              "      <td>4209.994260</td>\n",
              "    </tr>\n",
              "    <tr>\n",
              "      <th>2021-05-07</th>\n",
              "      <td>4232.60</td>\n",
              "      <td>4231.108964</td>\n",
              "    </tr>\n",
              "    <tr>\n",
              "      <th>2021-05-10</th>\n",
              "      <td>4188.43</td>\n",
              "      <td>4276.933424</td>\n",
              "    </tr>\n",
              "    <tr>\n",
              "      <th>2021-05-11</th>\n",
              "      <td>4152.10</td>\n",
              "      <td>4258.474583</td>\n",
              "    </tr>\n",
              "    <tr>\n",
              "      <th>2021-05-12</th>\n",
              "      <td>4063.04</td>\n",
              "      <td>4209.891704</td>\n",
              "    </tr>\n",
              "    <tr>\n",
              "      <th>2021-05-13</th>\n",
              "      <td>4112.50</td>\n",
              "      <td>4113.383516</td>\n",
              "    </tr>\n",
              "    <tr>\n",
              "      <th>2021-05-14</th>\n",
              "      <td>4173.85</td>\n",
              "      <td>4171.420290</td>\n",
              "    </tr>\n",
              "    <tr>\n",
              "      <th>2021-05-17</th>\n",
              "      <td>4163.29</td>\n",
              "      <td>4237.769768</td>\n",
              "    </tr>\n",
              "    <tr>\n",
              "      <th>2021-05-18</th>\n",
              "      <td>4127.83</td>\n",
              "      <td>4235.301036</td>\n",
              "    </tr>\n",
              "    <tr>\n",
              "      <th>2021-05-19</th>\n",
              "      <td>4115.68</td>\n",
              "      <td>4198.374405</td>\n",
              "    </tr>\n",
              "    <tr>\n",
              "      <th>2021-05-20</th>\n",
              "      <td>4159.12</td>\n",
              "      <td>4175.399802</td>\n",
              "    </tr>\n",
              "    <tr>\n",
              "      <th>2021-05-21</th>\n",
              "      <td>4155.86</td>\n",
              "      <td>4206.487636</td>\n",
              "    </tr>\n",
              "    <tr>\n",
              "      <th>2021-05-24</th>\n",
              "      <td>4197.05</td>\n",
              "      <td>4211.612800</td>\n",
              "    </tr>\n",
              "    <tr>\n",
              "      <th>2021-05-25</th>\n",
              "      <td>4188.13</td>\n",
              "      <td>4238.289885</td>\n",
              "    </tr>\n",
              "    <tr>\n",
              "      <th>2021-05-26</th>\n",
              "      <td>4195.99</td>\n",
              "      <td>4218.069162</td>\n",
              "    </tr>\n",
              "    <tr>\n",
              "      <th>2021-05-27</th>\n",
              "      <td>4200.88</td>\n",
              "      <td>4236.797664</td>\n",
              "    </tr>\n",
              "    <tr>\n",
              "      <th>2021-05-28</th>\n",
              "      <td>4204.11</td>\n",
              "      <td>4259.724245</td>\n",
              "    </tr>\n",
              "  </tbody>\n",
              "</table>\n",
              "</div>"
            ],
            "text/plain": [
              "              sp500            0\n",
              "DATE                            \n",
              "2021-04-29  4211.47  4183.180000\n",
              "2021-04-30  4181.17  4213.192083\n",
              "2021-05-03  4192.66  4179.263246\n",
              "2021-05-04  4164.66  4204.885090\n",
              "2021-05-05  4167.59  4197.809560\n",
              "2021-05-06  4201.62  4209.994260\n",
              "2021-05-07  4232.60  4231.108964\n",
              "2021-05-10  4188.43  4276.933424\n",
              "2021-05-11  4152.10  4258.474583\n",
              "2021-05-12  4063.04  4209.891704\n",
              "2021-05-13  4112.50  4113.383516\n",
              "2021-05-14  4173.85  4171.420290\n",
              "2021-05-17  4163.29  4237.769768\n",
              "2021-05-18  4127.83  4235.301036\n",
              "2021-05-19  4115.68  4198.374405\n",
              "2021-05-20  4159.12  4175.399802\n",
              "2021-05-21  4155.86  4206.487636\n",
              "2021-05-24  4197.05  4211.612800\n",
              "2021-05-25  4188.13  4238.289885\n",
              "2021-05-26  4195.99  4218.069162\n",
              "2021-05-27  4200.88  4236.797664\n",
              "2021-05-28  4204.11  4259.724245"
            ]
          },
          "metadata": {
            "tags": []
          },
          "execution_count": 288
        }
      ]
    },
    {
      "cell_type": "markdown",
      "metadata": {
        "id": "LHDCYdr5xENM"
      },
      "source": [
        "# Involving market capitalization"
      ]
    },
    {
      "cell_type": "code",
      "metadata": {
        "id": "y8OxSfGPxGgy"
      },
      "source": [
        "market_cap_df = pd.DataFrame.from_dict(market_cap_dict)\n",
        "\n",
        "market_cap_list = market_cap_df.values.tolist()\n",
        "market_cap_sums = list(map(sum, market_cap_list))\n",
        "\n",
        "\n",
        "for i in range(len(market_cap_df)):\n",
        "  market_cap_df.iloc[i] = market_cap_df.iloc[i] / market_cap_sums[i]\n",
        "\n",
        "# sort rows by date\n",
        "market_cap_df = market_cap_df.sort_index().iloc[3:-1]\n",
        "# sort columns by name\n",
        "market_cap_df = market_cap_df.reindex(sorted(market_cap_df.columns), axis=1)\n",
        "market_cap_df"
      ],
      "execution_count": null,
      "outputs": []
    },
    {
      "cell_type": "code",
      "metadata": {
        "id": "hqFSfw9M5ANk"
      },
      "source": [
        ""
      ],
      "execution_count": null,
      "outputs": []
    },
    {
      "cell_type": "markdown",
      "metadata": {
        "id": "MxYrlyAo360O"
      },
      "source": [
        "# Do the dot product\n"
      ]
    },
    {
      "cell_type": "code",
      "metadata": {
        "id": "FhGXYzt_5QEb"
      },
      "source": [
        "columns_for_removal = []\n",
        "for mcd in market_cap_df.columns:\n",
        "  if mcd not in ptc_changes.columns:\n",
        "    columns_for_removal.append(mcd)\n",
        "\n",
        "market_cap_df = market_cap_df.drop(columns_for_removal, axis=1)\n"
      ],
      "execution_count": null,
      "outputs": []
    },
    {
      "cell_type": "code",
      "metadata": {
        "id": "Z7ozin1V2zKi"
      },
      "source": [
        "market_cap_list = market_cap_df.values.tolist()\n",
        "ptc_change_list = ptc_changes.values.tolist()\n",
        "\n",
        "lists = list(zip(market_cap_list, ptc_change_list))\n",
        "weighted_change = list(map(lambda x: 1+sum(i[0] * i[1] for i in zip(x[0], x[1])), lists))\n",
        "weighted_change\n"
      ],
      "execution_count": null,
      "outputs": []
    },
    {
      "cell_type": "markdown",
      "metadata": {
        "id": "kUgFQYRc-K6Y"
      },
      "source": [
        "# Comparing outputs"
      ]
    },
    {
      "cell_type": "code",
      "metadata": {
        "id": "prvSaWeA4LQA"
      },
      "source": [
        "sp_curr=4183.18  # s&p index value on the starting date\n",
        "sp_list=[sp_curr]\n",
        "for ind in weighted_change:\n",
        "  sp_curr=sp_curr*ind\n",
        "  sp_list.append(sp_curr)"
      ],
      "execution_count": null,
      "outputs": []
    },
    {
      "cell_type": "code",
      "metadata": {
        "id": "nA0uGGd8-h98"
      },
      "source": [
        "weighted_sp_projection_df = pd.DataFrame(sp_list, index=real_SP500.index)"
      ],
      "execution_count": null,
      "outputs": []
    },
    {
      "cell_type": "code",
      "metadata": {
        "id": "5rMPsggc4S7C"
      },
      "source": [
        "comparison=pd.concat([ weighted_sp_projection_df, comparison_ew],axis=1)\n",
        "comparison"
      ],
      "execution_count": null,
      "outputs": []
    },
    {
      "cell_type": "code",
      "metadata": {
        "colab": {
          "base_uri": "https://localhost:8080/"
        },
        "id": "-Laru--M-n4m",
        "outputId": "be1f4a22-01fa-423e-c130-9e4d719a9c75"
      },
      "source": [
        "sum_sq_w = 0\n",
        "sum_sq_e = 0\n",
        "\n",
        "for triple in comparison.values.tolist():\n",
        "  sum_sq_w += (triple[0] - triple[1])**2\n",
        "  sum_sq_e += (triple[2] - triple[1])**2\n",
        "\n",
        "length = len(comparison.values.tolist())\n",
        "sum_sq_w /= length\n",
        "sum_sq_e /= length\n",
        "\n",
        "np.sqrt(sum_sq_w), np.sqrt(sum_sq_e)\n",
        "  "
      ],
      "execution_count": null,
      "outputs": [
        {
          "output_type": "execute_result",
          "data": {
            "text/plain": [
              "(87.60982311553664, 60.18598892256564)"
            ]
          },
          "metadata": {
            "tags": []
          },
          "execution_count": 309
        }
      ]
    },
    {
      "cell_type": "code",
      "metadata": {
        "id": "BxxX0B-ICSkc"
      },
      "source": [
        ""
      ],
      "execution_count": null,
      "outputs": []
    }
  ]
}